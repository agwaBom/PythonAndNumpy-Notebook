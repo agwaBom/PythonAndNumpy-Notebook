{
 "cells": [
  {
   "cell_type": "code",
   "execution_count": 11,
   "metadata": {},
   "outputs": [],
   "source": [
    "from numpy import zeros, sign, cos, sin\n",
    "# Define bisction function\n",
    "def bisection(f, a, b, n):\n",
    "    c = zeros(n)\n",
    "    for i in range(n):\n",
    "        # 중간값 정의\n",
    "        c[i] = (a + b)/2.0\n",
    "        # 근이 0일때 함숫값의 부호가 다른 구간에 근이 있으면 그 구간을 새로운 구간으로 정한다.\n",
    "        # sign = , if array value is greater than 0 it returns 1, if array value is less than 0 it returns -1, and if array value 0 it returns 0.\n",
    "        if sign(f(c[i])) == sign(f(a)):\n",
    "            a = c[i]\n",
    "        else:\n",
    "            b = c[i]\n",
    "    return c"
   ]
  },
  {
   "cell_type": "code",
   "execution_count": 6,
   "metadata": {},
   "outputs": [
    {
     "name": "stdout",
     "output_type": "stream",
     "text": [
      "    k       c\n",
      "    1    2.5000\n",
      "    2    1.2500\n",
      "    3    0.6250\n",
      "    4    0.3125\n",
      "    5    0.4688\n",
      "    6    0.5469\n",
      "    7    0.5859\n",
      "    8    0.6055\n",
      "    9    0.6152\n",
      "   10    0.6104\n",
      "   11    0.6079\n",
      "   12    0.6067\n",
      "   13    0.6073\n",
      "   14    0.6070\n",
      "   15    0.6071\n"
     ]
    }
   ],
   "source": [
    "# Define function\n",
    "def f(x):\n",
    "    return 3*x-cos(x)-1\n",
    "\n",
    "# 구간 a, b를 정의 n은 몇번 돌릴껀지\n",
    "# Execute bisection function\n",
    "a = 0.0\n",
    "b = 5.0\n",
    "n = 15\n",
    "xb = bisection(f, a, b, n)\n",
    "\n",
    "# Print results\n",
    "print(\"%5s %7s\"%('k', 'c'))\n",
    "\n",
    "for k in range(n):\n",
    "    print(\"%5d %9.4f\"%(k+1, xb[k]))"
   ]
  },
  {
   "cell_type": "code",
   "execution_count": 10,
   "metadata": {},
   "outputs": [
    {
     "name": "stdout",
     "output_type": "stream",
     "text": [
      "    k       c\n",
      "    1    4.5000\n",
      "    2    5.7500\n",
      "    3    5.1250\n",
      "    4    4.8125\n",
      "    5    4.9688\n",
      "    6    5.0469\n",
      "    7    5.0078\n",
      "    8    4.9883\n",
      "    9    4.9980\n",
      "   10    5.0029\n",
      "   11    5.0005\n",
      "   12    4.9993\n",
      "   13    4.9999\n",
      "   14    5.0002\n",
      "   15    5.0000\n"
     ]
    }
   ],
   "source": [
    "# Define function\n",
    "def f(x):\n",
    "    return -x**2+6*x-5\n",
    "\n",
    "# 구간 a, b를 정의 n은 몇번 돌릴껀지\n",
    "# Execute bisection function\n",
    "a = 2.0\n",
    "b = 7.0\n",
    "n = 15\n",
    "xb = bisection(f, a, b, n)\n",
    "\n",
    "# Print results\n",
    "print(\"%5s %7s\"%('k', 'c'))\n",
    "\n",
    "for k in range(n):\n",
    "    print(\"%5d %9.4f\"%(k+1, xb[k]))"
   ]
  },
  {
   "cell_type": "code",
   "execution_count": 15,
   "metadata": {},
   "outputs": [
    {
     "name": "stdout",
     "output_type": "stream",
     "text": [
      "    k       c\n",
      "    1   -2.2500\n",
      "    2   -0.8750\n",
      "    3   -1.5625\n",
      "    4   -1.2188\n",
      "    5   -1.0469\n",
      "    6   -0.9609\n",
      "    7   -0.9180\n",
      "    8   -0.8965\n",
      "    9   -0.8857\n",
      "   10   -0.8804\n",
      "   11   -0.8777\n",
      "   12   -0.8763\n",
      "   13   -0.8770\n",
      "   14   -0.8767\n",
      "   15   -0.8768\n",
      "   16   -0.8768\n",
      "   17   -0.8767\n"
     ]
    }
   ],
   "source": [
    "# Define function\n",
    "def f(x):\n",
    "    return x**2+sin(x)\n",
    "\n",
    "# 구간 a, b를 정의 n은 몇번 돌릴껀지\n",
    "# Execute bisection function\n",
    "a = -5.0\n",
    "b = 0.5\n",
    "n = 17\n",
    "xb = bisection(f, a, b, n)\n",
    "\n",
    "# Print results\n",
    "print(\"%5s %7s\"%('k', 'c'))\n",
    "\n",
    "for k in range(n):\n",
    "    print(\"%5d %9.4f\"%(k+1, xb[k]))"
   ]
  },
  {
   "cell_type": "code",
   "execution_count": 30,
   "metadata": {},
   "outputs": [
    {
     "name": "stdout",
     "output_type": "stream",
     "text": [
      "    k       x\n",
      "    1    5.0000\n",
      "    2    2.7163\n",
      "    3    3.9109\n",
      "    4    3.7184\n",
      "    5    3.8382\n",
      "    6    3.7670\n",
      "    7    3.8107\n",
      "    8    3.7844\n",
      "    9    3.8004\n",
      "   10    3.7907\n",
      "   11    3.7966\n",
      "   12    3.7930\n",
      "   13    3.7952\n",
      "   14    3.7939\n",
      "   15    3.7947\n",
      "   16    3.7942\n",
      "   17    3.7945\n",
      "   18    3.7943\n",
      "   19    3.7944\n",
      "   20    3.7944\n"
     ]
    }
   ],
   "source": [
    "from numpy import zeros, cos\n",
    "\n",
    "def fixedpoint(f, x0, n):\n",
    "    x = zeros(n)\n",
    "    errs = zeros(n)\n",
    "    x[0] = x0\n",
    "    for i in range(n-1):\n",
    "        x[i+1] = f(x[i])\n",
    "    return x\n",
    "\n",
    "# define f(x)\n",
    "def f(x):\n",
    "    return -cos(x)+3\n",
    "\n",
    "# Run FixedPoint\n",
    "x0 = 5.0\n",
    "n = 20\n",
    "xf = fixedpoint(f, x0, n)\n",
    "\n",
    "# Print Result\n",
    "print(\"%5s %7s\" %('k', 'x'))\n",
    "for k in range(n):\n",
    "    print(\"%5d %9.4f\" %(k+1, xf[k]))"
   ]
  },
  {
   "cell_type": "code",
   "execution_count": null,
   "metadata": {},
   "outputs": [],
   "source": []
  }
 ],
 "metadata": {
  "kernelspec": {
   "display_name": "Python 3",
   "language": "python",
   "name": "python3"
  },
  "language_info": {
   "codemirror_mode": {
    "name": "ipython",
    "version": 3
   },
   "file_extension": ".py",
   "mimetype": "text/x-python",
   "name": "python",
   "nbconvert_exporter": "python",
   "pygments_lexer": "ipython3",
   "version": "3.8.3"
  }
 },
 "nbformat": 4,
 "nbformat_minor": 4
}
