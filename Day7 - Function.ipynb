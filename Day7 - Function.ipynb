{
 "cells": [
  {
   "cell_type": "markdown",
   "metadata": {},
   "source": [
    "# Function\n",
    "- 함수란 특정한 작업을 위해 서로 관련되어 있는 코드들의 모임\n",
    "- 자주 이용하는 기능을 작은 크기의 코드로 작성하여 필요할 때마다 호출 후 사용하여 큰 프로그램을 손쉽게 만들 수 있게 함\n",
    "- 함수가 어떠한 일이 일어나는지 알 필요 없이 호출하면 결과가 나옴\n",
    "\n",
    "\n",
    "- **함수를 사용하는 이유**\n",
    "    - 코드의 양을 줄여 가독성이 좋아짐\n",
    "    - 간결해진 코드는 기능을 이해하기 쉬워짐\n",
    "    - 프로그램 흐름 파악이 쉽기 때문에 관리가 쉬움\n",
    "    - 재사용이 가능하여 효율적으로 사용이 가능함\n",
    "\n",
    "\n",
    "- **함수의 종류**\n",
    "    - 함수는 내장 함수와 사용자 정의 함수로 나눌 수 있다\n",
    "    - 내장 함수 : 프로그램에서 이미 지정된 함수(print)\n",
    "    - 사용자 정의함수 : 사용자가 필요에 의해 직접 정의하는 함수\n",
    "\n",
    "\n",
    "- **함수의 구조**\n",
    "    - 함수를 호출하는 부분 & 호출받아 실제 기능을 수행하는 함수로 나눌 수 있다\n",
    "    - 함수를 호출하고 데이터를 주고 받기 위해 인수와 매개변수가 필요\n",
    "    - 인수(argment)는 호출된 함수에 전달한 값 / 매개변수(parameter)은 호출된 함수에서 전달받은 값을 임시로 할당하는 변수\n",
    "    - 매개변수로부터 처리된 작업의 결과는 반환값(return value), 호출한 함수로 값이 반환됨.\n",
    "    - 인수, 매개변수, 반환 값은 항상 존재하지 않아도 됨.\n",
    "    - 4개 유형의 함수 인수는 여러 개여도 반환값은 단 하나\n",
    "        - 인수x 반환값x\n",
    "        - 인수o 반환값x\n",
    "        - 인수x 반환값o\n",
    "        - 인수o 반환값o"
   ]
  },
  {
   "cell_type": "code",
   "execution_count": 5,
   "metadata": {},
   "outputs": [
    {
     "name": "stdout",
     "output_type": "stream",
     "text": [
      "첫번째 수 입력: 5\n",
      "두번째 수 입력: 3\n",
      "5\n"
     ]
    }
   ],
   "source": [
    "# 인수만 있고 반환값이 없는 경우\n",
    "def max(num1, num2):\n",
    "    if num1>num2:\n",
    "        print(num1)\n",
    "    elif num1<num2:\n",
    "        print(num2)\n",
    "    else:\n",
    "        print(\"두수가 같습니다.\")\n",
    "a=int(input(\"첫번째 수 입력: \"))\n",
    "b=int(input(\"두번째 수 입력: \"))\n",
    "max(a,b)"
   ]
  },
  {
   "cell_type": "code",
   "execution_count": 6,
   "metadata": {},
   "outputs": [
    {
     "name": "stdout",
     "output_type": "stream",
     "text": [
      "첫번째 수 입력: 4\n",
      "두번째 수 입력: 2\n",
      "4\n"
     ]
    }
   ],
   "source": [
    "# 인수와 반환값이 모두 있는 경우\n",
    "def max(num1, num2):\n",
    "    if num1>num2:\n",
    "        return num1\n",
    "    elif num1<num2:\n",
    "        return num2\n",
    "    else:\n",
    "        return num1\n",
    "a=int(input(\"첫번째 수 입력: \"))\n",
    "b=int(input(\"두번째 수 입력: \"))\n",
    "print(max(a,b))"
   ]
  },
  {
   "cell_type": "code",
   "execution_count": null,
   "metadata": {},
   "outputs": [],
   "source": [
    "print(list(range(1, 20, 3)))"
   ]
  },
  {
   "cell_type": "code",
   "execution_count": 7,
   "metadata": {},
   "outputs": [
    {
     "name": "stdout",
     "output_type": "stream",
     "text": [
      "계산입력 (+, -, *, /):-\n",
      "첫번째 숫자 입력: 5\n",
      "두번째 숫자 입력: 3\n",
      "계산기 : 5 - 3 =2\n"
     ]
    }
   ],
   "source": [
    "# 사용자가 입력한 두 숫자의 덧셈, 뺄셈, 곱셈, 나눗셈을 하는 계산기 함수.\n",
    "def calc(v1, v2, op):\n",
    "    if op=='+':\n",
    "        result=v1+v2\n",
    "    elif op=='-':\n",
    "        result=v1-v2\n",
    "    elif op=='*':\n",
    "        result=v1*v2\n",
    "    elif op=='/':\n",
    "        result=v1/v2\n",
    "    return result\n",
    "oper=input(\"계산입력 (+, -, *, /):\")\n",
    "var1=int(input(\"첫번째 숫자 입력: \"))\n",
    "var2=int(input(\"두번째 숫자 입력: \"))\n",
    "res=calc(var1, var2, oper)\n",
    "print(\"계산기 : %d %s %d =%d\" % (var1, oper, var2, res))"
   ]
  },
  {
   "cell_type": "markdown",
   "metadata": {},
   "source": [
    "## 지역 변수와 전역 변수\n",
    "지역변수(Local)는 한정된 지역에서만 사용되는 변수, 전역변수(Global)는 프로그램 전체에서 사용되는 함수"
   ]
  },
  {
   "cell_type": "code",
   "execution_count": 8,
   "metadata": {},
   "outputs": [
    {
     "name": "stdout",
     "output_type": "stream",
     "text": [
      "fun1()에서 a의 값 10\n",
      "fun2()에서 a의 값 20\n"
     ]
    }
   ],
   "source": [
    "a=20\n",
    "def fun1():\n",
    "    a=10\n",
    "    print(\"fun1()에서 a의 값 %d\" %a)\n",
    "def fun2():\n",
    "    print(\"fun2()에서 a의 값 %d\" %a)\n",
    "fun1()\n",
    "fun2()"
   ]
  },
  {
   "cell_type": "code",
   "execution_count": 10,
   "metadata": {},
   "outputs": [
    {
     "name": "stdout",
     "output_type": "stream",
     "text": [
      "매개변수 2개 함수 호출 결과: 40\n",
      "매개변수 3개 함수 호출 결과: 90\n"
     ]
    }
   ],
   "source": [
    "# 매개변수 전달 방법 : 매개변수의 개수를 정해놓는 방법\n",
    "def para1(v1,v2):\n",
    "    result=v1+v2\n",
    "    return result\n",
    "def para2(v1, v2, v3):\n",
    "    result=v1+v2+v3\n",
    "    return result\n",
    "hap=para1(10,30)\n",
    "print(\"매개변수 2개 함수 호출 결과: %d\" % hap)\n",
    "hap=para2(10,30,50)\n",
    "print(\"매개변수 3개 함수 호출 결과: %d\" % hap)"
   ]
  },
  {
   "cell_type": "code",
   "execution_count": 11,
   "metadata": {},
   "outputs": [
    {
     "name": "stdout",
     "output_type": "stream",
     "text": [
      "매개변수 2개 함수 호출 결과: 40\n",
      "매개변수 3개 함수 호출 결과: 90\n"
     ]
    }
   ],
   "source": [
    "# 매개변수 전달 방법 : 매개변수에 기본값을 설정해 놓는 방법\n",
    "def para(v1,v2,v3=0):\n",
    "    result=v1+v2+v3\n",
    "    return result\n",
    "hap=para(10,30)\n",
    "print(\"매개변수 2개 함수 호출 결과: %d\" % hap)\n",
    "hap=para(10,30,50)\n",
    "print(\"매개변수 3개 함수 호출 결과: %d\" % hap)"
   ]
  },
  {
   "cell_type": "code",
   "execution_count": 13,
   "metadata": {},
   "outputs": [
    {
     "name": "stdout",
     "output_type": "stream",
     "text": [
      "매개변수 2개 함수 호출 결과: 40\n",
      "매개변수 3개 함수 호출 결과: 90\n",
      "매개변수 10개 함수 호출 결과: 55\n"
     ]
    }
   ],
   "source": [
    "# 매개변수 전달 방법 : 매개변수에 숫자를 정해 놓지 않는 방법\n",
    "def para(*arg):\n",
    "    result=0\n",
    "    for num in arg:\n",
    "        result=result+num\n",
    "    return result\n",
    "hap=para(10,30)\n",
    "print(\"매개변수 2개 함수 호출 결과: %d\" % hap)\n",
    "hap=para(10,30,50)\n",
    "print(\"매개변수 3개 함수 호출 결과: %d\" % hap)\n",
    "hap=para(1, 2, 3, 4, 5, 6, 7, 8, 9, 10)\n",
    "print(\"매개변수 10개 함수 호출 결과: %d\" % hap)"
   ]
  },
  {
   "cell_type": "code",
   "execution_count": 15,
   "metadata": {},
   "outputs": [
    {
     "name": "stdout",
     "output_type": "stream",
     "text": [
      "sum=150\n",
      "avg=30\n"
     ]
    }
   ],
   "source": [
    "# 전체 합과 평균 구하기\n",
    "def sum_avg(choice, *para):\n",
    "    if choice=='sum':\n",
    "        result=0\n",
    "        for num in para:\n",
    "            result=result+num\n",
    "    elif choice==\"avg\":\n",
    "        result=0\n",
    "        for num in para:\n",
    "            result=result+num\n",
    "        result=result/len(para)\n",
    "    return result\n",
    "result=sum_avg('sum', 10,20,30,40,50)\n",
    "print(\"sum=%d\"% result)\n",
    "result=sum_avg('avg', 10,20,30,40,50)\n",
    "print(\"avg=%d\"% result)"
   ]
  },
  {
   "cell_type": "code",
   "execution_count": 24,
   "metadata": {},
   "outputs": [
    {
     "name": "stdout",
     "output_type": "stream",
     "text": [
      "3\n",
      "False\n",
      "True\n",
      "A\n",
      "65\n"
     ]
    }
   ],
   "source": [
    "# 내장함수\n",
    "# abs 함수 - 절대값을 반환\n",
    "print(abs(-3))\n",
    "\n",
    "# all 함수 - 반복 가능한 자료 x를 받아 x가 참이면 true, 하나라도 틀리면 false\n",
    "print(all([0, 1 ,2]))\n",
    "\n",
    "# any 함수 - all과 반대로 하나라도 참이면 true, 나머지는 false\n",
    "print(any([0, 0, 1]))\n",
    "\n",
    "# chr - ascii를 입력받아 해당 문자를 반환\n",
    "print(chr(65))\n",
    "\n",
    "# ord - char을 받아 해당 ascii로 변환\n",
    "print(ord('A'))\n"
   ]
  },
  {
   "cell_type": "code",
   "execution_count": 27,
   "metadata": {},
   "outputs": [
    {
     "name": "stdout",
     "output_type": "stream",
     "text": [
      "(3, 4)\n",
      "0 one\n",
      "1 two\n",
      "2 three\n",
      "[1, 3, 8]\n",
      "[1, 3, 8]\n"
     ]
    }
   ],
   "source": [
    "# divmod(x, y) - x / y의 몫과 나머지를 튜플형태로 반환\n",
    "print(divmod(19, 5))\n",
    "\n",
    "# enumerate - 순서가 있는 자료형(list, tuple, string)을 입력받아 인덱스 값을 포함하는 enumerate 객체를 반환.\n",
    "for i, j in enumerate(['one', 'two', 'three']):\n",
    "    print(i,j)\n",
    "    \n",
    "# filter - 순서가 있는 자료형에서 true인 항목 만을 출력하는 함수\n",
    "def positive(numberList):\n",
    "    result=[]\n",
    "    for num in numberList:\n",
    "        if num>0:\n",
    "            result.append(num)\n",
    "    return result\n",
    "print(positive([1, -5, 3, 0, -9, 8]))\n",
    "\n",
    "def positive_filter(x):\n",
    "    return x>0\n",
    "print(list(filter(positive_filter, [1,-5, 3, 0, -9, 8])))"
   ]
  },
  {
   "cell_type": "code",
   "execution_count": 29,
   "metadata": {},
   "outputs": [
    {
     "name": "stdout",
     "output_type": "stream",
     "text": [
      "3\n"
     ]
    }
   ],
   "source": [
    "# lambda - 이름이 없는 한줄짜리 함수, def와 동일한 역할을 하지만 간단한 함수일때 사용\n",
    "sum = lambda a, b: a+b\n",
    "print(sum(1, 2))"
   ]
  },
  {
   "cell_type": "code",
   "execution_count": 31,
   "metadata": {},
   "outputs": [
    {
     "name": "stdout",
     "output_type": "stream",
     "text": [
      "[21, 13, 9, 9, 5, -3, 1, 1, 5, 13]\n",
      "[25, 16, 9, 4, 1, 0, 1, 4, 9, 16]\n",
      "[21, 13, 9, 9, 5, -3, 1, 1, 5, 13]\n",
      "[25, 16, 9, 4, 1, 0, 1, 4, 9, 16]\n"
     ]
    }
   ],
   "source": [
    "# WO lambda\n",
    "def f1(x):\n",
    "    return x^2+3*x-5\n",
    "def f2(x):\n",
    "    return x*x\n",
    "def g(func):\n",
    "    return [func(x) for x in range(-5, 5)]\n",
    "print(g(f1))\n",
    "print(g(f2))\n",
    "\n",
    "# W lambda\n",
    "def g(func):\n",
    "    return [func(x) for x in range(-5,5)]\n",
    "print(g(lambda x: x^2+3*x-5))\n",
    "print(g(lambda x: x*x))"
   ]
  },
  {
   "cell_type": "code",
   "execution_count": 32,
   "metadata": {},
   "outputs": [
    {
     "name": "stdout",
     "output_type": "stream",
     "text": [
      "[1, 4, 9, 16, 25]\n"
     ]
    }
   ],
   "source": [
    "# map - 반복 가능한 자료형을 입력받아 f(x)의 결과 y를 출력하는 함수\n",
    "x=[1,2,3,4,5]\n",
    "y=map(lambda a: a*a, x)\n",
    "print(list(y))"
   ]
  },
  {
   "cell_type": "code",
   "execution_count": 41,
   "metadata": {},
   "outputs": [
    {
     "name": "stdout",
     "output_type": "stream",
     "text": [
      "20\n",
      "10\n"
     ]
    }
   ],
   "source": [
    "# max - 반복 가능한 자료형을 입력받아 최대값을 반환\n",
    "# min - 반복 가능한 자료형을 입력받아 최솟값을 반환\n",
    "print(max(10, 20))\n",
    "print(min(10, 20))"
   ]
  },
  {
   "cell_type": "code",
   "execution_count": 42,
   "metadata": {},
   "outputs": [
    {
     "name": "stdout",
     "output_type": "stream",
     "text": [
      "[-4, -2, 0, 3, 5]\n",
      "[-4, -2, 0, 3, 5]\n"
     ]
    }
   ],
   "source": [
    "# sort - 객체내 항목을 직접 정렬\n",
    "a=[3,5,-4,0,-2]\n",
    "b=sorted(a)\n",
    "print(b)\n",
    "\n",
    "# sorted - 정렬한 결과를 리스트로 반환\n",
    "a.sort()\n",
    "print(a)"
   ]
  },
  {
   "cell_type": "code",
   "execution_count": 1,
   "metadata": {},
   "outputs": [
    {
     "data": {
      "text/plain": [
       "[(1, 4, 7), (2, 5, 8), (3, 6, 9)]"
      ]
     },
     "execution_count": 1,
     "metadata": {},
     "output_type": "execute_result"
    }
   ],
   "source": [
    "# zip - 동일한 개수로 이루어진 자료형을 묶어주는 역할\n",
    "list(zip([1,2,3], [4,5,6],[7,8,9]))"
   ]
  },
  {
   "cell_type": "code",
   "execution_count": 4,
   "metadata": {},
   "outputs": [
    {
     "name": "stdout",
     "output_type": "stream",
     "text": [
      "네자리 정수 입력: 4321\n",
      "네자리수합: 10\n"
     ]
    }
   ],
   "source": [
    "a=input(\"네자리 정수 입력: \")\n",
    "total = 0\n",
    "for i in a:\n",
    "    total+=int(i)\n",
    "\n",
    "print(\"네자리수합:\",total)"
   ]
  },
  {
   "cell_type": "code",
   "execution_count": 5,
   "metadata": {},
   "outputs": [
    {
     "name": "stdout",
     "output_type": "stream",
     "text": [
      "최대값: 98 최소값: 20 차이값 78\n"
     ]
    }
   ],
   "source": [
    "def high_score(li):\n",
    "    max = 0\n",
    "    for i in li:\n",
    "        if max < i:\n",
    "            max = i\n",
    "    return max\n",
    "def low_score(li):\n",
    "    low = 99999\n",
    "    for i in li:\n",
    "        if low > i:\n",
    "            low = i\n",
    "    return low\n",
    "def gap_score(high, low):\n",
    "    return high-low\n",
    "a = [94,90,45,20,80,98,75,85,69,89]\n",
    "hi = high_score(a)\n",
    "lo = low_score(a)\n",
    "print(\"최대값:\", hi, \"최소값:\", lo, \"차이값\", gap_score(hi, lo))"
   ]
  },
  {
   "cell_type": "code",
   "execution_count": 8,
   "metadata": {},
   "outputs": [
    {
     "name": "stdout",
     "output_type": "stream",
     "text": [
      "*\n",
      "**\n",
      "***\n",
      "****\n",
      "*****\n",
      "****\n",
      "***\n",
      "**\n",
      "*\n",
      "\n"
     ]
    }
   ],
   "source": [
    "for i in range(0, 2):\n",
    "    for j in range(1, 6):\n",
    "        if i == 0:\n",
    "            print(\"*\"*j)\n",
    "        if i == 1:\n",
    "            print(\"*\"*(5-j))"
   ]
  },
  {
   "cell_type": "code",
   "execution_count": 9,
   "metadata": {},
   "outputs": [
    {
     "data": {
      "text/plain": [
       "[10, 20, 30, 40, 50]"
      ]
     },
     "execution_count": 9,
     "metadata": {},
     "output_type": "execute_result"
    }
   ],
   "source": [
    "old_list=[2,4,6,8,10]\n",
    "\n",
    "new_list=list(map(lambda x: x*5, old_list))\n",
    "new_list"
   ]
  },
  {
   "cell_type": "code",
   "execution_count": 14,
   "metadata": {},
   "outputs": [
    {
     "name": "stdout",
     "output_type": "stream",
     "text": [
      "초입력:3661\n",
      "1 h, 1 m, 1 s\n"
     ]
    }
   ],
   "source": [
    "s=int(input(\"초입력:\"))\n",
    "h=s//3600\n",
    "\n",
    "m=s%3600//60\n",
    "\n",
    "re=s%3660\n",
    "print(\"%d h, %d m, %d s\" %(h,m,re))"
   ]
  },
  {
   "cell_type": "code",
   "execution_count": 11,
   "metadata": {},
   "outputs": [
    {
     "data": {
      "text/plain": [
       "3600"
      ]
     },
     "execution_count": 11,
     "metadata": {},
     "output_type": "execute_result"
    }
   ],
   "source": [
    "60*60"
   ]
  },
  {
   "cell_type": "code",
   "execution_count": null,
   "metadata": {},
   "outputs": [],
   "source": []
  }
 ],
 "metadata": {
  "kernelspec": {
   "display_name": "Python 3",
   "language": "python",
   "name": "python3"
  },
  "language_info": {
   "codemirror_mode": {
    "name": "ipython",
    "version": 3
   },
   "file_extension": ".py",
   "mimetype": "text/x-python",
   "name": "python",
   "nbconvert_exporter": "python",
   "pygments_lexer": "ipython3",
   "version": "3.8.3"
  }
 },
 "nbformat": 4,
 "nbformat_minor": 4
}
