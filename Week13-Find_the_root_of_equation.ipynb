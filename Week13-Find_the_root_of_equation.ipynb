{
 "cells": [
  {
   "cell_type": "markdown",
   "metadata": {},
   "source": [
    "# 방정식의 근 구하기\n",
    "\n",
    "## 근의 존재 구간\n",
    "1. 함수로 주어진 방정식 f(x)의 근을 구한다는 것은 f(x)=0을 만족시키는 값 c를 찾는다는 것과 동일하다고 볼 수 있다.\n",
    "2. 만일 c가 방정식의 근이 아니라면 함수에 대입한 결과는 f(c)≠0이 된다.\n",
    "3. 수치해석에서 방정식의 근을 구하는 방식은 해석적이 아닌 근사적이며 반복적인 과정을 따르게 되는데 그 시작은 근을 추측하는 것으로부터 시작된다.\n",
    "4. 방정식 f(x)=0의 근을 구하기 위해서는 먼저 근이 존재할 가능성이 있는 영역을 찾아야 하며 그에 대한 알고리즘은 방정식의 차수가 낮은 경우에는 어렵지 않게 확정할 수 있다.\n",
    "\n",
    "## 방정식의 근을 구하기 위한 알고리즘은 다음과 같은 두 가지의 역할 수행\n",
    "1. 첫 번째는 근이 존재할 가능성이 있는 영역을 알아내는 일이고\n",
    "2. 두 번째는 실제로 근을 찾아내는 것\n",
    "\n",
    "## 중간값 정리\n",
    "1. 중간값 정리는 근의 존재 여부를 판단할 수 있는 중요한 이론적 근거 제공\n",
    "2. 중간값 정리 함수 f(x)가 a≤x≤b에서 연속이며 미분가능하다고 할 때 임의의 함수값 M이 두 점에서의 함수값 f(a), f(b)와 다음과 같은 관계가 성립된다면 f(a)≤M≤f(b)\n",
    "3. 이때 함수값 M을 생산할 수 있는 값 c가 구간 a<x<b에 존재하며 f(c)=M\n",
    "\n",
    "Ex) f(x) =-x^2+6x-5=0 구간 –1<x<3에서 존재하는가?\n",
    "\n",
    "## 평균값 정리\n",
    "1. 두 점에서의 함숫값의 부호가 모두 양인 경우, f(a)>0, f(b)>0 f(x) =-x^2+6x-5=0 구간 2<x<3 인 경우.\n",
    "2. 두 점에서의 함숫값의 부호가 모두 음인 경우, f(a)<0, f(b)<0 f(x) =-x^2+6x-5=0 구간 –1<x<0 인 경우 평균값 정리를 만족하는 값 c가 존재하는가?\n",
    "3. 두 점에서의 함숫값의 부호가 다른 경우 f(a)<0, f(b)>0 또는 f(a)>0, f(b)<0 f(x) =-x^2+6x-5=0 구간 –1<x<3 평균값 정리를 만족하는 값 c가 존재하는가?\n"
   ]
  },
  {
   "cell_type": "markdown",
   "metadata": {},
   "source": [
    "## 이분법\n",
    "이분법(bisection methods)은 방정식이 근이 존재하는 영역에서 구간의 크기를 연속적으로 절반으로 줄여가면서 근을 찾아내는 방법. 이분법은 구간이 올바르게 결정된 경우에는 확실하게 근을 찾는다는 장점이 있는 반면 다른 방법에 비해서 찾아가는 속도가 느리다는 단점이 있다.\n",
    "\n",
    "### 이분법 알고리즘을 요약\n",
    "1. 주어진 구간 a<x<b에서의 중간점 c=(a+b)/2를 계산\n",
    "2. 중간점 c에서의 함숫값 f(c)을 얻는다.\n",
    "3. f(c)의 부호를 f(a) 또는 f(b)와 비교한다. 함숫값의 부호가 다른 구간에 근이 있으면 그 구간을 새로운 구간으로 정한다.\n",
    "4. 새롭게 정의된 구간에서 1번 과정부터 다시 실행한다."
   ]
  },
  {
   "cell_type": "code",
   "execution_count": 3,
   "metadata": {},
   "outputs": [],
   "source": [
    "from numpy import zeros, sign\n",
    "# Define bisction function\n",
    "def bisection(f, a, b, n):\n",
    "    c = zeros(n)\n",
    "    for i in range(n):\n",
    "        # 중간값 정의\n",
    "        c[i] = (a + b)/2.0\n",
    "        # 근이 0일때 함숫값의 부호가 다른 구간에 근이 있으면 그 구간을 새로운 구간으로 정한다.\n",
    "        # sign = , if array value is greater than 0 it returns 1, if array value is less than 0 it returns -1, and if array value 0 it returns 0.\n",
    "        if sign(f(c[i])) == sign(f(a)):\n",
    "            a = c[i]\n",
    "        else:\n",
    "            b = c[i]\n",
    "    return c"
   ]
  },
  {
   "cell_type": "code",
   "execution_count": 2,
   "metadata": {},
   "outputs": [
    {
     "name": "stdout",
     "output_type": "stream",
     "text": [
      "    k       c\n",
      "    1    0.5000\n",
      "    2    1.7500\n",
      "    3    1.1250\n",
      "    4    0.8125\n",
      "    5    0.9688\n",
      "    6    1.0469\n",
      "    7    1.0078\n"
     ]
    }
   ],
   "source": [
    "# Define function\n",
    "def f(x):\n",
    "    return -x**2+6.0*x-5.0\n",
    "\n",
    "# 구간 a, b를 정의 n은 몇번 돌릴껀지\n",
    "# Execute bisection function\n",
    "a = -2.0\n",
    "b = 3.0\n",
    "n = 7\n",
    "xb = bisection(f, a, b, n)\n",
    "\n",
    "# Print results\n",
    "print(\"%5s %7s\"%('k', 'c'))\n",
    "\n",
    "for k in range(n):\n",
    "    print(\"%5d %9.4f\"%(k+1, xb[k]))"
   ]
  },
  {
   "cell_type": "markdown",
   "metadata": {},
   "source": [
    "## 고정점 방법\n",
    "고정점 방법은 해를 구하고자 하는 방정식을 수정하여 다음과 같은 보조 방정식으로 만들고 반복되는 함수에 대하여 고정점을 계산하는 방식으로 해를 구한다. 유의할 점은 가능하면 좌변에 1차의 x가 오도록 방정식을 수정하여야 한다."
   ]
  },
  {
   "cell_type": "code",
   "execution_count": 6,
   "metadata": {},
   "outputs": [
    {
     "name": "stdout",
     "output_type": "stream",
     "text": [
      "    k       x\n",
      "    1    3.0000\n",
      "    2    2.3333\n",
      "    3    1.7407\n",
      "    4    1.3384\n",
      "    5    1.1319\n",
      "    6    1.0469\n",
      "    7    1.0160\n"
     ]
    }
   ],
   "source": [
    "from numpy import zeros\n",
    "\n",
    "def fixedpoint(g, x0, n):\n",
    "    x = zeros(n)\n",
    "    errs = zeros(n)\n",
    "    x[0] = x0\n",
    "    for i in range(n-1):\n",
    "        x[i+1] = g(x[i])\n",
    "    return x\n",
    "\n",
    "# define g(x)\n",
    "def g(x):\n",
    "    return 1.0/6.0*(x**2+5)\n",
    "\n",
    "# Run FixedPoint\n",
    "x0 = 3.0\n",
    "n = 7\n",
    "xf = fixedpoint(g, x0, n)\n",
    "\n",
    "# Print Result\n",
    "print(\"%5s %7s\" %('k', 'x'))\n",
    "for k in range(n):\n",
    "    print(\"%5d %9.4f\" %(k+1, xf[k]))"
   ]
  },
  {
   "cell_type": "markdown",
   "metadata": {},
   "source": [
    "## 요약\n",
    "1. 두 점에서의 함숫값의 부호가 모두 양인 경우 f(a)>0, f(b)>0에서는 근이 존재하지 않는다.\n",
    "2. 두 점에서의 함숫값의 부호가 모두 음인 경우, f(a)<0, f(b)<0에서는 근이 존재하지 않는다.\n",
    "3. 두 점에서의 함숫값의 부호가 다른 경우, f(a)>0, f(b)<0 또는 f(a)<0, f(b)>0에서는 근이 존재한다.\n",
    "4. 이분법은 근이 존재할 가능성이 있는 영역을 구간으로 지정하고, 구간의 중간점을 계산한 후 분할된 영역에서의 함숫값을 비교하여 구간을 축소해가면서 근을 찾는 방법이다.\n",
    "5. 구간이 적절하게 정해진다면 이분법은 다른 방법과 달리 거의 확정적으로 근을 찾아준다.\n",
    "6. 이분법은 모든 영역을 나누어가면서 탐색해야 하므로 속도가 느린 단점이 있다.\n",
    "7. 고정법 방법은 비교적 간단하게 근을 구할 수 있는 방법이나 특성 방정식에 따라서 근을 구하는 결과가 크게 좌우되는 경향이 있다.\n",
    "8. 고정법 방법은 이분법과 달리 하나의 초기값만 필요하다. "
   ]
  }
 ],
 "metadata": {
  "kernelspec": {
   "display_name": "Python 3",
   "language": "python",
   "name": "python3"
  },
  "language_info": {
   "codemirror_mode": {
    "name": "ipython",
    "version": 3
   },
   "file_extension": ".py",
   "mimetype": "text/x-python",
   "name": "python",
   "nbconvert_exporter": "python",
   "pygments_lexer": "ipython3",
   "version": "3.8.3"
  }
 },
 "nbformat": 4,
 "nbformat_minor": 4
}
