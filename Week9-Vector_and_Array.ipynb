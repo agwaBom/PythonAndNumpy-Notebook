{
 "cells": [
  {
   "cell_type": "code",
   "execution_count": 2,
   "metadata": {},
   "outputs": [],
   "source": [
    "import numpy as np"
   ]
  },
  {
   "cell_type": "markdown",
   "metadata": {},
   "source": [
    "## Vector and Array"
   ]
  },
  {
   "cell_type": "code",
   "execution_count": 4,
   "metadata": {},
   "outputs": [
    {
     "name": "stdout",
     "output_type": "stream",
     "text": [
      "[0 1 2 3 4]\n",
      "5\n"
     ]
    }
   ],
   "source": [
    "# array()는 리스트 구조를 numpy 행렬로 만들어준다\n",
    "vec = np.array([0,1,2,3,4])\n",
    "length = len(vec)\n",
    "print(vec)\n",
    "print(length)"
   ]
  },
  {
   "cell_type": "code",
   "execution_count": 6,
   "metadata": {},
   "outputs": [
    {
     "name": "stdout",
     "output_type": "stream",
     "text": [
      "A =  [[0 1 2]\n",
      " [3 4 5]\n",
      " [6 7 8]]\n",
      "(3, 3)\n"
     ]
    }
   ],
   "source": [
    "# Numpy 3x3 행렬 만들기\n",
    "A = np.array([[0,1,2],[3,4,5],[6,7,8]])\n",
    "print('A = ', A)\n",
    "print(A.shape)"
   ]
  },
  {
   "cell_type": "code",
   "execution_count": 10,
   "metadata": {},
   "outputs": [
    {
     "name": "stdout",
     "output_type": "stream",
     "text": [
      "B =  [1 2 3 4]\n",
      "C = \n",
      " [[1 2]\n",
      " [3 4]]\n"
     ]
    }
   ],
   "source": [
    "# reshape를 통해 기존 행렬 구조를 변환\n",
    "B = np.array([1,2,3,4])\n",
    "C = B.reshape(2,2)\n",
    "print('B = ', B)\n",
    "print('C = \\n', C)"
   ]
  },
  {
   "cell_type": "code",
   "execution_count": 5,
   "metadata": {},
   "outputs": [
    {
     "name": "stdout",
     "output_type": "stream",
     "text": [
      "B :  [0 1 2 3 4]\n",
      "C :  [0 3 6 9]\n",
      "<class 'numpy.ndarray'>\n",
      "<class 'numpy.ndarray'>\n"
     ]
    }
   ],
   "source": [
    "# arange를 통해 행렬을 자동으로 생성\n",
    "B = np.arange(5)\n",
    "C = np.arange(0, 10, 3) # 0~10까지 ++3하면서!\n",
    "print('B : ', B)\n",
    "print('C : ', C)\n",
    "print(type(B))\n",
    "print(type(C))"
   ]
  },
  {
   "cell_type": "code",
   "execution_count": 12,
   "metadata": {},
   "outputs": [
    {
     "name": "stdout",
     "output_type": "stream",
     "text": [
      "[0.   0.25 0.5  0.75 1.  ]\n",
      "<class 'numpy.ndarray'>\n"
     ]
    }
   ],
   "source": [
    "# linspace는 간격으로 정해진 개수만큼 배열 요소를 만들어준다\n",
    "A = np.linspace(0,1,5)\n",
    "print(A)\n",
    "print(type(A))"
   ]
  },
  {
   "cell_type": "code",
   "execution_count": 13,
   "metadata": {},
   "outputs": [
    {
     "name": "stdout",
     "output_type": "stream",
     "text": [
      "one\n",
      " [[1. 1. 1.]\n",
      " [1. 1. 1.]\n",
      " [1. 1. 1.]]\n",
      "zero\n",
      " [[0. 0. 0.]\n",
      " [0. 0. 0.]\n",
      " [0. 0. 0.]]\n"
     ]
    }
   ],
   "source": [
    "# one, zero 함수를 이용해 array를 채울 수 있다\n",
    "one = np.ones((3,3))\n",
    "zero = np.zeros((3,3))\n",
    "print('one\\n', one)\n",
    "print('zero\\n', zero)"
   ]
  },
  {
   "cell_type": "code",
   "execution_count": 14,
   "metadata": {},
   "outputs": [
    {
     "name": "stdout",
     "output_type": "stream",
     "text": [
      "C\n",
      " [[ 6  8]\n",
      " [10 12]]\n",
      "D\n",
      " [[-4 -4]\n",
      " [-4 -4]]\n"
     ]
    }
   ],
   "source": [
    "# 행렬 A와 B연산 수행\n",
    "A = np.array([[1,2],[3,4]])\n",
    "B = np.array([[5,6],[7,8]])\n",
    "C = A + B\n",
    "D = A - B\n",
    "print('C\\n', C)\n",
    "print('D\\n', D)"
   ]
  },
  {
   "cell_type": "code",
   "execution_count": 15,
   "metadata": {},
   "outputs": [
    {
     "name": "stdout",
     "output_type": "stream",
     "text": [
      "multiplied :\n",
      " [[10. 20.]\n",
      " [30. 40.]]\n",
      "divided :\n",
      " [[0.5 1. ]\n",
      " [1.5 2. ]]\n"
     ]
    }
   ],
   "source": [
    "# 행렬의 상수 곱셈 & 나눗셈\n",
    "A = np.array([[1,2],[3,4]])\n",
    "C = A * 10.0\n",
    "D = A / 2.0\n",
    "print('multiplied :\\n', C)\n",
    "print('divided :\\n', D)"
   ]
  },
  {
   "cell_type": "code",
   "execution_count": 17,
   "metadata": {},
   "outputs": [
    {
     "name": "stdout",
     "output_type": "stream",
     "text": [
      "11\n"
     ]
    }
   ],
   "source": [
    "# dot product(벡터 내적)을 하기 위해 dot()를 사용함\n",
    "A = np.array([1,2])\n",
    "B = np.array([3,4])\n",
    "dots = np.dot(A, B)\n",
    "print(dots) # 3 + 8 = 11"
   ]
  },
  {
   "cell_type": "code",
   "execution_count": 20,
   "metadata": {},
   "outputs": [
    {
     "name": "stdout",
     "output_type": "stream",
     "text": [
      "A dot B : \n",
      " [[19 22]\n",
      " [43 50]]\n"
     ]
    }
   ],
   "source": [
    "# 2차원 내적 (그냥 행렬 곱하기넹)\n",
    "A = np.array([[1,2],[3,4]])\n",
    "B = np.array([[5,6],[7,8]])\n",
    "matdot = np.dot(A, B)\n",
    "print('A dot B : \\n', matdot)"
   ]
  },
  {
   "cell_type": "code",
   "execution_count": 21,
   "metadata": {},
   "outputs": [
    {
     "name": "stdout",
     "output_type": "stream",
     "text": [
      "A * B\n",
      " [[ 5 12]\n",
      " [21 32]]\n"
     ]
    }
   ],
   "source": [
    "# 두 개의 벡터 행렬 곱셈 (원소 위치에 맞게 곱하기)\n",
    "A = np.array([[1,2],[3,4]])\n",
    "B = np.array([[5,6],[7,8]])\n",
    "matprod = A * B\n",
    "print('A * B\\n', matprod)"
   ]
  },
  {
   "cell_type": "code",
   "execution_count": 24,
   "metadata": {},
   "outputs": [
    {
     "name": "stdout",
     "output_type": "stream",
     "text": [
      "a[0]: 1\n",
      "a[2]: 3\n",
      "a[-1]: 8\n"
     ]
    }
   ],
   "source": [
    "# indexing and slicing\n",
    "# this is indexing\n",
    "a = np.array([1,2,3,4,5,6,7,8])\n",
    "print('a[0]:', a[0])\n",
    "print('a[2]:', a[2])\n",
    "print('a[-1]:', a[-1])"
   ]
  },
  {
   "cell_type": "code",
   "execution_count": 26,
   "metadata": {},
   "outputs": [
    {
     "name": "stdout",
     "output_type": "stream",
     "text": [
      "a[1,1] :  5\n",
      "a[2,1] :  8\n",
      "a[1] :  [4 5 6]\n",
      "a[-1] :  [7 8 9]\n"
     ]
    }
   ],
   "source": [
    "# 3x3 행렬에서 원하는 요소 찾아오기\n",
    "a = np.array([[1,2,3],[4,5,6],[7,8,9]])\n",
    "print('a[1,1] : ',a[1,1])\n",
    "print('a[2,1] : ',a[2,1])\n",
    "print('a[1] : ', a[1])\n",
    "print('a[-1] : ', a[-1])"
   ]
  },
  {
   "cell_type": "code",
   "execution_count": 27,
   "metadata": {},
   "outputs": [
    {
     "name": "stdout",
     "output_type": "stream",
     "text": [
      "a[:3] [99 77 88]\n",
      "a[:,0] [1 4 7]\n",
      "a[:,2] [3 6 9]\n"
     ]
    }
   ],
   "source": [
    "a = np.array([99,77,88,44,33,11,22,55])\n",
    "print('a[:3]', a[:3]) # 0~2번째 출력\n",
    "\n",
    "a = np.array([[1,2,3],[4,5,6],[7,8,9]])\n",
    "print('a[:,0]', a[:,0]) # 세로 출력\n",
    "print('a[:,2]', a[:,2])"
   ]
  },
  {
   "cell_type": "code",
   "execution_count": 29,
   "metadata": {},
   "outputs": [
    {
     "name": "stdout",
     "output_type": "stream",
     "text": [
      "[0.         0.22039774 0.42995636 0.6183698  0.77637192 0.8961922\n",
      " 0.9719379  0.99988386 0.9786557  0.90929743]\n"
     ]
    }
   ],
   "source": [
    "# 벡터화 기법을 이용하여 여러개의 요소에 대한 값을 한번에 얻을 수 있다.\n",
    "x = np.linspace(0,2,10)\n",
    "y = np.sin(x)\n",
    "print(y)"
   ]
  },
  {
   "cell_type": "code",
   "execution_count": 51,
   "metadata": {},
   "outputs": [
    {
     "name": "stdout",
     "output_type": "stream",
     "text": [
      "[8 7 6 4 5]\n"
     ]
    }
   ],
   "source": [
    "import numpy as np\n",
    "a = np.array([0,3,9,8,7,6,4,5])\n",
    "print(a[3:])\n"
   ]
  }
 ],
 "metadata": {
  "kernelspec": {
   "display_name": "Python 3",
   "language": "python",
   "name": "python3"
  },
  "language_info": {
   "codemirror_mode": {
    "name": "ipython",
    "version": 3
   },
   "file_extension": ".py",
   "mimetype": "text/x-python",
   "name": "python",
   "nbconvert_exporter": "python",
   "pygments_lexer": "ipython3",
   "version": "3.8.3"
  }
 },
 "nbformat": 4,
 "nbformat_minor": 4
}
