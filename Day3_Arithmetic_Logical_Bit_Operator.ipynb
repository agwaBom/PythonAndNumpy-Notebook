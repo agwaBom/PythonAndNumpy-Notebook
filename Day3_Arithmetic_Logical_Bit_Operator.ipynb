{
 "cells": [
  {
   "cell_type": "markdown",
   "metadata": {},
   "source": [
    "# Print()\n",
    "\n",
    "%d = 정수\n",
    "\n",
    "%x = 16진수\n",
    "\n",
    "%o = 8진수\n",
    "\n",
    "%f = 실수\n",
    "\n",
    "%c = 문자 한글자\n",
    "\n",
    "%s = 한 글자 이상의 문자열"
   ]
  },
  {
   "cell_type": "code",
   "execution_count": 1,
   "metadata": {},
   "outputs": [
    {
     "name": "stdout",
     "output_type": "stream",
     "text": [
      "100 300\n"
     ]
    }
   ],
   "source": [
    "print(\"%d %d\" %(100, 300))"
   ]
  },
  {
   "cell_type": "code",
   "execution_count": 4,
   "metadata": {},
   "outputs": [
    {
     "name": "stdout",
     "output_type": "stream",
     "text": [
      "100 200 = 0\n"
     ]
    }
   ],
   "source": [
    "print(\"%d %d = %d\" %(100, 200, 0.5)) #0.5는 정수가 아니기 때문에 불가능"
   ]
  },
  {
   "cell_type": "code",
   "execution_count": 6,
   "metadata": {},
   "outputs": [
    {
     "name": "stdout",
     "output_type": "stream",
     "text": [
      "123\n",
      "  123\n",
      "00123\n",
      "123.450000\n",
      "  123.5\n",
      "123.450\n",
      "Python\n",
      "    Python\n"
     ]
    }
   ],
   "source": [
    "print(\"%d\" %123)\n",
    "print(\"%5d\" %123) # 5자리 수로 맞춰달라\n",
    "print(\"%05d\" %123) # 5자리로 맞춰주되 공백을 0으로\n",
    "\n",
    "print(\"%f\" %123.45)\n",
    "print(\"%7.1f\" %123.45) # 7자리로 소수점 첫째 자리 까지 출력(반올림 적용됨)\n",
    "print(\"%7.3f\" %123.45) # 7자리로 소수점 셋째 자리 까지 출력\n",
    "\n",
    "print(\"%s\" %\"Python\")\n",
    "print(\"%10s\" %\"Python\") # 10자리로 만들어달라"
   ]
  },
  {
   "cell_type": "markdown",
   "metadata": {},
   "source": [
    "## 이스케이프 문자\n",
    "\n",
    "\\n 새로운 줄로 이동\n",
    "\n",
    "\\t 다음 탭으로 이동\n",
    "\n",
    "\\b 뒤로 한 칸 이동(Backspace)\n",
    "\n",
    "\\\\ \\출력\n",
    "\n",
    "\\' '출력\n",
    "\n",
    "\\\" \"출력"
   ]
  },
  {
   "cell_type": "code",
   "execution_count": 9,
   "metadata": {},
   "outputs": [
    {
     "name": "stdout",
     "output_type": "stream",
     "text": [
      "\n",
      " 줄바꿈 \n",
      " 연습\n",
      "\t 탭키 \t 연습\n",
      "글자가 \"강조\"되는 효과1\n",
      "글자가 '강조'되는 효과1\n",
      "\\ 백슬래쉬 1개 출력\n",
      "\\n \\t \\\" \\를 그대로 출력\n"
     ]
    }
   ],
   "source": [
    "print(\"\\n 줄바꿈 \\n 연습\")\n",
    "print(\"\\t 탭키 \\t 연습\")\n",
    "print(\"글자가 \\\"강조\\\"되는 효과1\")\n",
    "print(\"글자가 \\'강조\\'되는 효과1\")\n",
    "print(\"\\\\ 백슬래쉬 1개 출력\")\n",
    "print(r\"\\n \\t \\\" \\를 그대로 출력\") # r은 그대로 출력됨을 의미"
   ]
  },
  {
   "cell_type": "markdown",
   "metadata": {},
   "source": [
    "# 변수\n",
    "\n",
    "변수는 어떤 값을 저장하기 위한 메모리 공간\n",
    "\n",
    "int 정수형\n",
    "\n",
    "float 실수형\n",
    "\n",
    "str 문자열\n",
    "\n",
    "bool 불형\n",
    "\n",
    "# 비트\n",
    "\n",
    "컴퓨터에서 표현할 수 있는 제일 작은 단위로 0과 1만 존재. 즉, 하나의 비트로 표현할 수 있는 가짓수는 2가 됨.\n",
    "\n",
    "2진수 1001 0011\n",
    "\n",
    "16진수는 2진수 4자리씩 끊어서 계산\n",
    "1001 = 9, 0011 = 3 ===>93(16)\n",
    "\n",
    "16진수를 10진수로 계산하려면...\n",
    "9*16^1 + 3*16^0 = 147"
   ]
  },
  {
   "cell_type": "code",
   "execution_count": 10,
   "metadata": {},
   "outputs": [
    {
     "data": {
      "text/plain": [
       "147"
      ]
     },
     "execution_count": 10,
     "metadata": {},
     "output_type": "execute_result"
    }
   ],
   "source": [
    "0b10010011"
   ]
  },
  {
   "cell_type": "code",
   "execution_count": 11,
   "metadata": {},
   "outputs": [
    {
     "data": {
      "text/plain": [
       "147"
      ]
     },
     "execution_count": 11,
     "metadata": {},
     "output_type": "execute_result"
    }
   ],
   "source": [
    "int('10010011', 2)"
   ]
  },
  {
   "cell_type": "code",
   "execution_count": 13,
   "metadata": {},
   "outputs": [
    {
     "data": {
      "text/plain": [
       "147"
      ]
     },
     "execution_count": 13,
     "metadata": {},
     "output_type": "execute_result"
    }
   ],
   "source": [
    "0x93"
   ]
  },
  {
   "cell_type": "code",
   "execution_count": 14,
   "metadata": {},
   "outputs": [
    {
     "data": {
      "text/plain": [
       "147"
      ]
     },
     "execution_count": 14,
     "metadata": {},
     "output_type": "execute_result"
    }
   ],
   "source": [
    "int('93', 16)"
   ]
  },
  {
   "cell_type": "code",
   "execution_count": 15,
   "metadata": {},
   "outputs": [
    {
     "data": {
      "text/plain": [
       "'0b1101'"
      ]
     },
     "execution_count": 15,
     "metadata": {},
     "output_type": "execute_result"
    }
   ],
   "source": [
    "bin(13) # 10진수 => 2진수"
   ]
  },
  {
   "cell_type": "code",
   "execution_count": 16,
   "metadata": {},
   "outputs": [
    {
     "data": {
      "text/plain": [
       "'0b10011'"
      ]
     },
     "execution_count": 16,
     "metadata": {},
     "output_type": "execute_result"
    }
   ],
   "source": [
    "bin(0x13) # 16진수 => 2진수 "
   ]
  },
  {
   "cell_type": "markdown",
   "metadata": {},
   "source": [
    "# 연산자\n",
    "\n",
    "산술 연산자의 우선수위는 괄호가 가장 우선, 곱셈(나눗셈)이 그 다음, 덧셈(뺄셈)이 가장 마지막에 수행되며 덧셈(뺄셈)끼리 곱셈(나눗셈)끼리 나오면 왼쪽에서 오른쪽으로 계산이 진행됨"
   ]
  },
  {
   "cell_type": "code",
   "execution_count": 17,
   "metadata": {},
   "outputs": [
    {
     "name": "stdout",
     "output_type": "stream",
     "text": [
      "8 2 15 1.6666666666666667 1 2 125\n"
     ]
    }
   ],
   "source": [
    "a = 5\n",
    "b = 3\n",
    "print(a+b, a-b, a*b, a/b, a//b, a%b, a**b)"
   ]
  },
  {
   "cell_type": "code",
   "execution_count": 19,
   "metadata": {},
   "outputs": [
    {
     "name": "stdout",
     "output_type": "stream",
     "text": [
      "15\n",
      "10\n",
      "50\n",
      "10.0\n",
      "2.0\n",
      "2.0\n",
      "32.0\n"
     ]
    }
   ],
   "source": [
    "a = 10\n",
    "a += 5\n",
    "print(a)\n",
    "a -= 5\n",
    "print(a)\n",
    "a *= 5\n",
    "print(a)\n",
    "a /= 5\n",
    "print(a)\n",
    "a //= 5\n",
    "print(a)\n",
    "a %= 5\n",
    "print(a)\n",
    "a **= 5\n",
    "print(a)"
   ]
  },
  {
   "cell_type": "code",
   "execution_count": 20,
   "metadata": {},
   "outputs": [
    {
     "name": "stdout",
     "output_type": "stream",
     "text": [
      "교환할 돈은 얼마인가?2570\n",
      "500원짜리 : 5개\n",
      "100원짜리 : 0개\n",
      "50원짜리 : 1개\n",
      "10원짜리 : 2개\n"
     ]
    }
   ],
   "source": [
    "# 동전 교환 프로그램\n",
    "money = int(input(\"교환할 돈은 얼마인가?\"))\n",
    "w500 = money // 500\n",
    "money %= 500\n",
    "\n",
    "w100 = money // 100\n",
    "money %= 100\n",
    "\n",
    "w50 = money // 50\n",
    "money %= 50\n",
    "\n",
    "w10 = money // 10\n",
    "\n",
    "print(\"500원짜리 : %d개\" % w500)\n",
    "print(\"100원짜리 : %d개\" % w100)\n",
    "print(\"50원짜리 : %d개\" % w50)\n",
    "print(\"10원짜리 : %d개\" % w10)"
   ]
  },
  {
   "cell_type": "code",
   "execution_count": 22,
   "metadata": {},
   "outputs": [
    {
     "name": "stdout",
     "output_type": "stream",
     "text": [
      "15\n",
      "507\n",
      "65535\n"
     ]
    }
   ],
   "source": [
    "print(10|7) # 비트 논리 합\n",
    "print(123|456)\n",
    "print(0xFFFF|0x0000)"
   ]
  },
  {
   "cell_type": "code",
   "execution_count": 23,
   "metadata": {},
   "outputs": [
    {
     "name": "stdout",
     "output_type": "stream",
     "text": [
      "-12345\n"
     ]
    }
   ],
   "source": [
    "# 비트 배타적 논리합(^) 0^1 또는 1^0일때만 1이 됨\n",
    "# 비트 부정(~)연산자는 0을 1로 바꿈\n",
    "a = 12345\n",
    "print(~a+1) # +1을 함으로써 2의 보수로 변환시킬 수 있다."
   ]
  },
  {
   "cell_type": "code",
   "execution_count": 24,
   "metadata": {},
   "outputs": [
    {
     "name": "stdout",
     "output_type": "stream",
     "text": [
      "20\n",
      "40\n",
      "80\n",
      "160\n"
     ]
    }
   ],
   "source": [
    "a = 10\n",
    "print(a<<1) # 2^1 * 10\n",
    "print(a<<2) # 2^2 * 10\n",
    "print(a<<3) # 2^3 * 10\n",
    "print(a<<4) # 2^4 * 10"
   ]
  },
  {
   "cell_type": "code",
   "execution_count": 25,
   "metadata": {},
   "outputs": [
    {
     "name": "stdout",
     "output_type": "stream",
     "text": [
      "6\n"
     ]
    }
   ],
   "source": [
    "# 오른쪽으로 1회 시프트는 2^1, 2회 2^2, 3회 2^3으로 나누어 몫만 출력한 효과가 난다. \n",
    "print(26>>2) # 26/4 = 6"
   ]
  },
  {
   "cell_type": "code",
   "execution_count": 26,
   "metadata": {},
   "outputs": [
    {
     "name": "stdout",
     "output_type": "stream",
     "text": [
      "5\n",
      "2\n",
      "1\n",
      "0\n"
     ]
    }
   ],
   "source": [
    "a = 10\n",
    "print(a>>1) # 10//2 = 5\n",
    "print(a>>2) # 10//4 = 2\n",
    "print(a>>3) # 10//8 = 1\n",
    "print(a>>4) # 10//16 = 0"
   ]
  },
  {
   "cell_type": "code",
   "execution_count": 5,
   "metadata": {},
   "outputs": [
    {
     "name": "stdout",
     "output_type": "stream",
     "text": [
      "True\n"
     ]
    }
   ],
   "source": [
    "if (10 == 10):\n",
    "    print(True)"
   ]
  }
 ],
 "metadata": {
  "kernelspec": {
   "display_name": "Python 3",
   "language": "python",
   "name": "python3"
  },
  "language_info": {
   "codemirror_mode": {
    "name": "ipython",
    "version": 3
   },
   "file_extension": ".py",
   "mimetype": "text/x-python",
   "name": "python",
   "nbconvert_exporter": "python",
   "pygments_lexer": "ipython3",
   "version": "3.8.3"
  }
 },
 "nbformat": 4,
 "nbformat_minor": 4
}
