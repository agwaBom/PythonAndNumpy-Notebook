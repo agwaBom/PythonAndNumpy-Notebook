{
 "cells": [
  {
   "cell_type": "markdown",
   "metadata": {},
   "source": [
    "# 리스트\n",
    "\n",
    "리스트에서 1번째와 8번째 요소를 추출하고 싶을때."
   ]
  },
  {
   "cell_type": "code",
   "execution_count": 5,
   "metadata": {},
   "outputs": [
    {
     "data": {
      "text/plain": [
       "2"
      ]
     },
     "execution_count": 5,
     "metadata": {},
     "output_type": "execute_result"
    }
   ],
   "source": [
    "even = [2,4,6,8,10,12,14,16,20]\n",
    "even[0]"
   ]
  },
  {
   "cell_type": "code",
   "execution_count": 6,
   "metadata": {},
   "outputs": [
    {
     "data": {
      "text/plain": [
       "16"
      ]
     },
     "execution_count": 6,
     "metadata": {},
     "output_type": "execute_result"
    }
   ],
   "source": [
    "even[7]"
   ]
  },
  {
   "cell_type": "markdown",
   "metadata": {},
   "source": [
    "다음과 같이 n번째 요소를 추출하기 위한 연산자를 직접적으로 넣을 수 있다."
   ]
  },
  {
   "cell_type": "code",
   "execution_count": 7,
   "metadata": {},
   "outputs": [
    {
     "data": {
      "text/plain": [
       "856"
      ]
     },
     "execution_count": 7,
     "metadata": {},
     "output_type": "execute_result"
    }
   ],
   "source": [
    "ex=[5,99,1,70,856,1224]\n",
    "h=5\n",
    "l=2\n",
    "ex[3+1]"
   ]
  },
  {
   "cell_type": "code",
   "execution_count": 10,
   "metadata": {},
   "outputs": [
    {
     "data": {
      "text/plain": [
       "70"
      ]
     },
     "execution_count": 10,
     "metadata": {},
     "output_type": "execute_result"
    }
   ],
   "source": [
    "ex[h-l]"
   ]
  },
  {
   "cell_type": "code",
   "execution_count": 11,
   "metadata": {},
   "outputs": [
    {
     "data": {
      "text/plain": [
       "99"
      ]
     },
     "execution_count": 11,
     "metadata": {},
     "output_type": "execute_result"
    }
   ],
   "source": [
    "ex[4%3] # 4를 3으로 나눈 나머지를 index로 할 경우"
   ]
  },
  {
   "cell_type": "markdown",
   "metadata": {},
   "source": [
    "+: 여러 개의 list형을 하나의 list형으로 병합하는 연산\n",
    "\n",
    "\n",
    "*: 주어진 숫자만큼 list형을 반복하는 연산"
   ]
  },
  {
   "cell_type": "code",
   "execution_count": 5,
   "metadata": {},
   "outputs": [
    {
     "data": {
      "text/plain": [
       "[0, 1, 2, 3, 4, 5, 6]"
      ]
     },
     "execution_count": 5,
     "metadata": {},
     "output_type": "execute_result"
    }
   ],
   "source": [
    "a=[0,1,2,3]\n",
    "b=[4,5,6]\n",
    "c=a+b\n",
    "c"
   ]
  },
  {
   "cell_type": "code",
   "execution_count": 6,
   "metadata": {},
   "outputs": [
    {
     "data": {
      "text/plain": [
       "[1, 2, 3, 1, 2, 3, 1, 2, 3]"
      ]
     },
     "execution_count": 6,
     "metadata": {},
     "output_type": "execute_result"
    }
   ],
   "source": [
    "num=[1,2,3]\n",
    "num=num*3\n",
    "num"
   ]
  },
  {
   "cell_type": "code",
   "execution_count": 8,
   "metadata": {},
   "outputs": [
    {
     "data": {
      "text/plain": [
       "['k', 'o', 'e', 'a']"
      ]
     },
     "execution_count": 8,
     "metadata": {},
     "output_type": "execute_result"
    }
   ],
   "source": [
    "spell=['k','o','r','e','a']\n",
    "spell[:2]+spell[3:]"
   ]
  },
  {
   "cell_type": "code",
   "execution_count": 10,
   "metadata": {},
   "outputs": [
    {
     "data": {
      "text/plain": [
       "['s', 'w', 'e', 'e', 't']"
      ]
     },
     "execution_count": 10,
     "metadata": {},
     "output_type": "execute_result"
    }
   ],
   "source": [
    "s=['s','w','e','a','t']\n",
    "s[3]='e'\n",
    "s"
   ]
  },
  {
   "cell_type": "code",
   "execution_count": 11,
   "metadata": {},
   "outputs": [
    {
     "data": {
      "text/plain": [
       "['s', 'm', 'i', 'l', 'e']"
      ]
     },
     "execution_count": 11,
     "metadata": {},
     "output_type": "execute_result"
    }
   ],
   "source": [
    "s[1:]=['m','i','l','e']\n",
    "s"
   ]
  },
  {
   "cell_type": "code",
   "execution_count": 13,
   "metadata": {},
   "outputs": [
    {
     "data": {
      "text/plain": [
       "['s', 'm', 'e', 'l', 'l']"
      ]
     },
     "execution_count": 13,
     "metadata": {},
     "output_type": "execute_result"
    }
   ],
   "source": [
    "s[2:]=['e','l','l']\n",
    "s"
   ]
  },
  {
   "cell_type": "code",
   "execution_count": 14,
   "metadata": {},
   "outputs": [
    {
     "data": {
      "text/plain": [
       "['spring']"
      ]
     },
     "execution_count": 14,
     "metadata": {},
     "output_type": "execute_result"
    }
   ],
   "source": [
    "season=[]\n",
    "season.append(\"spring\")\n",
    "season"
   ]
  },
  {
   "cell_type": "code",
   "execution_count": 15,
   "metadata": {},
   "outputs": [
    {
     "data": {
      "text/plain": [
       "['spring', 'summer']"
      ]
     },
     "execution_count": 15,
     "metadata": {},
     "output_type": "execute_result"
    }
   ],
   "source": [
    "season.append(\"summer\")\n",
    "season"
   ]
  },
  {
   "cell_type": "code",
   "execution_count": 17,
   "metadata": {},
   "outputs": [
    {
     "data": {
      "text/plain": [
       "['spring', 'fall', 'winter']"
      ]
     },
     "execution_count": 17,
     "metadata": {},
     "output_type": "execute_result"
    }
   ],
   "source": [
    "season=[\"spring\",\"summer\",\"fall\",\"winter\"]\n",
    "season.remove(\"summer\")\n",
    "season"
   ]
  },
  {
   "cell_type": "markdown",
   "metadata": {},
   "source": [
    "in = list의 원소인가를 확인하는 연산자"
   ]
  },
  {
   "cell_type": "code",
   "execution_count": 18,
   "metadata": {},
   "outputs": [
    {
     "data": {
      "text/plain": [
       "True"
      ]
     },
     "execution_count": 18,
     "metadata": {},
     "output_type": "execute_result"
    }
   ],
   "source": [
    "\"fall\" in season"
   ]
  },
  {
   "cell_type": "markdown",
   "metadata": {},
   "source": [
    "리스트에서 특정 항목 찾기"
   ]
  },
  {
   "cell_type": "code",
   "execution_count": 19,
   "metadata": {},
   "outputs": [
    {
     "data": {
      "text/plain": [
       "2"
      ]
     },
     "execution_count": 19,
     "metadata": {},
     "output_type": "execute_result"
    }
   ],
   "source": [
    "season=[\"spring\",\"summer\",\"fall\",\"winter\"]\n",
    "season.index(\"fall\")"
   ]
  },
  {
   "cell_type": "markdown",
   "metadata": {},
   "source": [
    "리스트 정렬하기"
   ]
  },
  {
   "cell_type": "code",
   "execution_count": 20,
   "metadata": {},
   "outputs": [
    {
     "data": {
      "text/plain": [
       "['fall', 'spring', 'summer', 'winter']"
      ]
     },
     "execution_count": 20,
     "metadata": {},
     "output_type": "execute_result"
    }
   ],
   "source": [
    "season=[\"spring\",\"summer\",\"fall\",\"winter\"]\n",
    "season.sort()\n",
    "season"
   ]
  },
  {
   "cell_type": "code",
   "execution_count": 21,
   "metadata": {},
   "outputs": [
    {
     "data": {
      "text/plain": [
       "[1, 2, 3, 4, 5, 6, 7, 8, 9]"
      ]
     },
     "execution_count": 21,
     "metadata": {},
     "output_type": "execute_result"
    }
   ],
   "source": [
    "num=[8,3,4,1,2,6,9,7,5]\n",
    "num.sort()\n",
    "num"
   ]
  },
  {
   "cell_type": "markdown",
   "metadata": {},
   "source": [
    "## 리스트 조작 함수\n",
    "\n",
    "append - 리스트 제일 뒤에 항목 추가\n",
    "\n",
    "pop - 리스트 제일 뒤 항목을 빼고, 뺀 항목을 삭제\n",
    "\n",
    "sort - 리스트의 항목을 정렬한다\n",
    "\n",
    "reverse - 리스트 항목의 순서를 역순으로 만든다\n",
    "\n",
    "index - 지정한 값을 찾아서 그 위치를 반환\n",
    "\n",
    "insert - 지정된 위치에 값을 삽입\n",
    "\n",
    "remove - 리스트에서 지정한 값을 삭제\n",
    "\n",
    "extend - 리스트 위에 리스트를 추가\n",
    "\n",
    "count - 리스트에서 찾을 값의 개수를 센다\n",
    "\n",
    "del - 리스트에서 해당 위치의 항목을 삭제\n",
    "\n",
    "len - 리스트에서 포함된 전체 항목의 개수를 센다"
   ]
  },
  {
   "cell_type": "code",
   "execution_count": 22,
   "metadata": {},
   "outputs": [
    {
     "name": "stdout",
     "output_type": "stream",
     "text": [
      "현재 리스트: [30, 20, 10]\n",
      "append(40) 후의 리스트 : [30, 20, 10, 40]\n",
      "pop()으로 추출한 값 : 40\n",
      "pop() 후의 리스트 : [30, 20, 10]\n",
      "sort() 후의 리스트 : [10, 20, 30]\n",
      "reverse() 후의 리스트 : [30, 20, 10]\n",
      "30 값의 위치 : 0\n",
      "insert(2, 531) 후의 리스트 : [30, 20, 531, 10]\n",
      "remove(531) 후의 리스트 : [30, 20, 10]\n",
      "extend(40, 50, 60, 50) 후의 리스트 : [30, 20, 10, 40, 50, 60, 50]\n",
      "50의 개수 : 2\n"
     ]
    }
   ],
   "source": [
    "num=[30, 20, 10]\n",
    "print(\"현재 리스트: %s\" % num)\n",
    "num.append(40)\n",
    "print(\"append(40) 후의 리스트 : %s\" % num)\n",
    "print(\"pop()으로 추출한 값 : %s\" % num.pop())\n",
    "print(\"pop() 후의 리스트 : %s\" % num)\n",
    "num.sort()\n",
    "print(\"sort() 후의 리스트 : %s\" % num)\n",
    "num.reverse()\n",
    "print(\"reverse() 후의 리스트 : %s\" % num)\n",
    "print(\"30 값의 위치 : %d\" % num.index(30))\n",
    "num.insert(2, 531)\n",
    "print(\"insert(2, 531) 후의 리스트 : %s\" % num)\n",
    "num.remove(531)\n",
    "print(\"remove(531) 후의 리스트 : %s\" % num)\n",
    "num.extend([40, 50, 60, 50])\n",
    "print(\"extend(40, 50, 60, 50) 후의 리스트 : %s\" % num)\n",
    "print(\"50의 개수 : %d\" % num.count(50))"
   ]
  },
  {
   "cell_type": "markdown",
   "metadata": {},
   "source": [
    "## Tuple\n",
    "- 변경 불가능한 선형 자료구조\n",
    "    - 본질적으로 list와 매우 유사한 구조\n",
    "        - 순서가 존재\n",
    "        - list와 구분하기 위해 소괄호 표기"
   ]
  },
  {
   "cell_type": "markdown",
   "metadata": {},
   "source": [
    "int 타입의 한 원소만 가지고 있을 때 t=(1)으로 적으면 tuple형으로 받지 않음"
   ]
  },
  {
   "cell_type": "code",
   "execution_count": 23,
   "metadata": {},
   "outputs": [
    {
     "data": {
      "text/plain": [
       "int"
      ]
     },
     "execution_count": 23,
     "metadata": {},
     "output_type": "execute_result"
    }
   ],
   "source": [
    "t=(1)\n",
    "type(t)"
   ]
  },
  {
   "cell_type": "code",
   "execution_count": 24,
   "metadata": {},
   "outputs": [
    {
     "data": {
      "text/plain": [
       "tuple"
      ]
     },
     "execution_count": 24,
     "metadata": {},
     "output_type": "execute_result"
    }
   ],
   "source": [
    "t=(1,)\n",
    "type(t)"
   ]
  },
  {
   "cell_type": "markdown",
   "metadata": {},
   "source": [
    "tuple은 slice가 가능하다."
   ]
  },
  {
   "cell_type": "code",
   "execution_count": 26,
   "metadata": {},
   "outputs": [
    {
     "data": {
      "text/plain": [
       "(1, 11)"
      ]
     },
     "execution_count": 26,
     "metadata": {},
     "output_type": "execute_result"
    }
   ],
   "source": [
    "t=('Mon',1,11,'winter')\n",
    "t[1:3]"
   ]
  },
  {
   "cell_type": "code",
   "execution_count": 27,
   "metadata": {},
   "outputs": [
    {
     "data": {
      "text/plain": [
       "'boy'"
      ]
     },
     "execution_count": 27,
     "metadata": {},
     "output_type": "execute_result"
    }
   ],
   "source": [
    "t1=('boy',)\n",
    "t1[0]"
   ]
  },
  {
   "cell_type": "markdown",
   "metadata": {},
   "source": [
    "tuple은 합병이 가능하다."
   ]
  },
  {
   "cell_type": "code",
   "execution_count": 9,
   "metadata": {},
   "outputs": [
    {
     "data": {
      "text/plain": [
       "(1, 2, 3, 4, 'spring')"
      ]
     },
     "execution_count": 9,
     "metadata": {},
     "output_type": "execute_result"
    }
   ],
   "source": [
    "t1 = (1, 2, 3, 4)\n",
    "t2 = ('spring',)\n",
    "t3 = t1 + t2\n",
    "t3"
   ]
  },
  {
   "cell_type": "markdown",
   "metadata": {},
   "source": [
    "tuple은 곱이 가능하다."
   ]
  },
  {
   "cell_type": "code",
   "execution_count": 10,
   "metadata": {},
   "outputs": [
    {
     "name": "stdout",
     "output_type": "stream",
     "text": [
      "(1, 2, 3, 4, 1, 2, 3, 4)\n"
     ]
    }
   ],
   "source": [
    "print(t1*2)"
   ]
  },
  {
   "cell_type": "code",
   "execution_count": 18,
   "metadata": {},
   "outputs": [
    {
     "data": {
      "text/plain": [
       "('one', 'two', 'three', 'o', 'n', 'e')"
      ]
     },
     "execution_count": 18,
     "metadata": {},
     "output_type": "execute_result"
    }
   ],
   "source": [
    "#string형과 List형으로부터 tuple 생성\n",
    "str_num = 'one'\n",
    "list_num = ['one', 'two', 'three']\n",
    "tuple_list = tuple(list_num)\n",
    "tuple_str = tuple(str_num)\n",
    "\n",
    "#tuple 합하기\n",
    "tu = tuple_list + tuple_str\n",
    "tu"
   ]
  },
  {
   "cell_type": "markdown",
   "metadata": {},
   "source": [
    "## Set 형의 생성\n",
    "- set은 많은 자료를 관리하는데 유용\n",
    "- set은 집합에 관련된 자료 형\n",
    "- 리스트와 튜플은 순서를 결정하는 인덱스로 데이터에 접근, 그러나 세트는 항목간에 순서가 없다.\n",
    "- 순서없는 데이터를 관리할 때 유용\n",
    "- 데이터의 중복이 없다.\n",
    "- set은 중복을 제거하기 위한 용도로 사용하기도 한다\n",
    "- {} 이렇게 생김\n",
    "- slice 연산은 set에서 사용 불가 -> index구조가 아니기 때문\n",
    "   \n",
    "- set 선언 예\n",
    "    - 동일한 자료형을 원소로 갖는 set\n",
    "    - 혼용 자료형을 원소로 갖는 set\n",
    "    - 빈 set\n",
    "    - 변수로 할당하여 생성\n",
    "    - list와 tuple을 기반으로 생성가능\n",
    "    "
   ]
  },
  {
   "cell_type": "code",
   "execution_count": 19,
   "metadata": {},
   "outputs": [
    {
     "name": "stdout",
     "output_type": "stream",
     "text": [
      "[1, 2, 3, 1, 2, 3]\n",
      "{1, 2, 3}\n"
     ]
    }
   ],
   "source": [
    "# set은 중복을 허용하지 않는다.\n",
    "num_list = [1, 2, 3, 1, 2, 3]\n",
    "print(num_list)\n",
    "num_set = set(num_list)\n",
    "print(num_set)"
   ]
  },
  {
   "cell_type": "code",
   "execution_count": 20,
   "metadata": {},
   "outputs": [
    {
     "name": "stdout",
     "output_type": "stream",
     "text": [
      "{100}\n",
      "{100, 20, 200, 10, 300}\n",
      "{200, 300}\n"
     ]
    }
   ],
   "source": [
    "# set은 집합연산 사용가능 이를 통해 특정원소가 포함되어있는지 확인이 가능하다.\n",
    "a = {100, 200, 300}\n",
    "b = {10, 20, 100}\n",
    "print(a&b) # 교집합\n",
    "print(a|b) # 합집합\n",
    "print(a-b) # 차집합"
   ]
  },
  {
   "cell_type": "code",
   "execution_count": 21,
   "metadata": {},
   "outputs": [
    {
     "data": {
      "text/plain": [
       "True"
      ]
     },
     "execution_count": 21,
     "metadata": {},
     "output_type": "execute_result"
    }
   ],
   "source": [
    "# 특정 원소가 set에 있는지 확인하는 연산:in\n",
    "s = {'red', 'yellow', 'green', 'black'}\n",
    "'yellow' in s"
   ]
  },
  {
   "cell_type": "code",
   "execution_count": 22,
   "metadata": {},
   "outputs": [
    {
     "name": "stdout",
     "output_type": "stream",
     "text": [
      "True\n",
      "4\n"
     ]
    }
   ],
   "source": [
    "fruit = {'strawberry', 'banana', 'orange', 'apple'}\n",
    "print('banana' in fruit)\n",
    "fruit.remove('apple')\n",
    "fruit.add('melon')\n",
    "print(len(fruit))"
   ]
  },
  {
   "cell_type": "code",
   "execution_count": 24,
   "metadata": {},
   "outputs": [
    {
     "name": "stdout",
     "output_type": "stream",
     "text": [
      "{4, 5}\n",
      "{1}\n"
     ]
    }
   ],
   "source": [
    "team_pro = {1, 2, 3, 4, 5}\n",
    "late = {2, 1}\n",
    "absent = {3, 1}\n",
    "late_absent = late | absent\n",
    "# 한번도 늦거나 결석하지 않은 사람\n",
    "bonus = team_pro - late_absent\n",
    "print(bonus)\n",
    "# 늦기도하고 결석도 한 사람\n",
    "overtime = late & absent\n",
    "print(overtime)"
   ]
  },
  {
   "cell_type": "markdown",
   "metadata": {},
   "source": [
    "## dictionary\n",
    "- 사전과 비슷한 형식의 자료형\n",
    "    - 단어를 통해 뜻을 구하는 경우\n",
    "        - dictionary는 키와 값의 쌍으로 데이터를 저장\n",
    "        - dictionary의 요소는 한 쌍의 key : value로 표현\n",
    "        - dictionary는 중괄호를 이용하고 쉼표를 사용해서 분리한다."
   ]
  },
  {
   "cell_type": "code",
   "execution_count": 25,
   "metadata": {},
   "outputs": [
    {
     "data": {
      "text/plain": [
       "{'떡볶이': '3000원', '김밥': '3000원', '라면': '4000원'}"
      ]
     },
     "execution_count": 25,
     "metadata": {},
     "output_type": "execute_result"
    }
   ],
   "source": [
    "#키 값을 찾기 위한 용도로 사용하기 때문에 키 값은 변경 할 수 없는 자료형만 dictionary의 key가 될 수 있음\n",
    "price = {'떡볶이':'3000원', '김밥':'3000원', '라면':'4000원'}\n",
    "price"
   ]
  },
  {
   "cell_type": "code",
   "execution_count": 29,
   "metadata": {},
   "outputs": [
    {
     "name": "stdout",
     "output_type": "stream",
     "text": [
      "{'떡볶이': '2000원', '김밥': '3000원', '라면': '4000원'}\n",
      "3000원\n",
      "{'떡볶이': '2000원', '김밥': '3000원', '라면': '4000원', '오므라이스': '5000원'}\n",
      "{'떡볶이': '2000원', '김밥': '3000원', '라면': '4000원'}\n"
     ]
    }
   ],
   "source": [
    "# 모든 자료형이 사용가능\n",
    "# dictionary 원소의 value값은 할당문에 의해 변경 \n",
    "price['떡볶이'] = '2000원'\n",
    "print(price)\n",
    "# 사전 항목에 접근하기 위해서 키 값을 사용하면 된다\n",
    "print(price['김밥'])\n",
    "# dictionary에 새로운 항목을 추가\n",
    "price['오므라이스'] = '5000원'\n",
    "print(price)\n",
    "# dictionary에 존재하는 원소를 삭제\n",
    "del price['오므라이스']\n",
    "print(price)"
   ]
  },
  {
   "cell_type": "code",
   "execution_count": 30,
   "metadata": {},
   "outputs": [
    {
     "name": "stdout",
     "output_type": "stream",
     "text": [
      "dict_keys(['name', 'height', 'weight'])\n",
      "dict_values(['a', 100, 70])\n"
     ]
    }
   ],
   "source": [
    "# dictionary는 저장되어 있는 키와 값의 목록을 따로 추려낼 수 있다.\n",
    "information = {'name':'a', 'height':100, 'weight':70}\n",
    "print(information.keys())\n",
    "print(information.values())"
   ]
  },
  {
   "cell_type": "code",
   "execution_count": 32,
   "metadata": {},
   "outputs": [
    {
     "name": "stdout",
     "output_type": "stream",
     "text": [
      "True\n",
      "False\n"
     ]
    }
   ],
   "source": [
    "menu = {'americano':'2000원', 'cafe latte':'2500원', 'green tea latte':'3000원', 'mocha latte':'3500원'}\n",
    "print('americano' in menu.keys()) # True\n",
    "print('vanila latte' in menu.keys()) # False"
   ]
  },
  {
   "cell_type": "markdown",
   "metadata": {},
   "source": [
    "## summary\n",
    "- tuple( )형은 list\\[ \\]형의 구조와 사용이 거의 동일하다는 공통점이 있으나, 한 번 생성되면 원소의 변경이 불가능하다는 차이점이 있다.\n",
    "- set형{}은 집합과 관련된 자료형이다.\n",
    "- dictionary형은 key value가 한 쌍을 이루는 원소로 이루어진 자료형이다."
   ]
  }
 ],
 "metadata": {
  "kernelspec": {
   "display_name": "Python 3",
   "language": "python",
   "name": "python3"
  },
  "language_info": {
   "codemirror_mode": {
    "name": "ipython",
    "version": 3
   },
   "file_extension": ".py",
   "mimetype": "text/x-python",
   "name": "python",
   "nbconvert_exporter": "python",
   "pygments_lexer": "ipython3",
   "version": "3.8.3"
  }
 },
 "nbformat": 4,
 "nbformat_minor": 4
}
