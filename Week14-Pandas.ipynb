{
 "cells": [
  {
   "cell_type": "markdown",
   "metadata": {},
   "source": [
    "# Pandas & Monte Carlo Simulation\n",
    "## pandas\n",
    "1. 데이터 분석에서 pandas 라이브러리는 데이터를 수집하고 분석하는데 사용하는 강력한 라이브러리\n",
    "2. Pandas는 1차원 배열형태의 Series 객체와 2차원 배열 형태의 Dataframe 객체 제공\n",
    "3. Series 객체는 Series 클래스의 인스턴스 객체로 생성"
   ]
  },
  {
   "cell_type": "code",
   "execution_count": 2,
   "metadata": {},
   "outputs": [
    {
     "name": "stdout",
     "output_type": "stream",
     "text": [
      "0    hello\n",
      "1        2\n",
      "2      4.5\n",
      "3       AB\n",
      "4     True\n",
      "dtype: object\n"
     ]
    }
   ],
   "source": [
    "import pandas as pd\n",
    "list1 = ['hello', 2, 4.5, 'AB', True]\n",
    "# 1차원 배열형태의 Series Class\n",
    "sr1 = pd.Series(list1)\n",
    "print(sr1)"
   ]
  },
  {
   "cell_type": "markdown",
   "metadata": {},
   "source": [
    "1. 딕셔너리 객체를 인자로 Series 객체를 만들어 활용할 수 있음.\n",
    "2. 딕셔너리 객체를 인자로 Series 객체를 생성할 경우, 해당 딕셔너리 객체의 키로 Series 객체를 인덱싱 할 수 있음."
   ]
  },
  {
   "cell_type": "code",
   "execution_count": 4,
   "metadata": {},
   "outputs": [
    {
     "name": "stdout",
     "output_type": "stream",
     "text": [
      "A    hello\n",
      "B        2\n",
      "C      4.5\n",
      "D       AB\n",
      "E     True\n",
      "dtype: object\n"
     ]
    }
   ],
   "source": [
    "dict1 = {'A':'hello', 'B':2, 'C':4.5, 'D':'AB', 'E':True}\n",
    "sr1 = pd.Series(dict1)\n",
    "# dictionary 객체의 키 A~E로 인덱싱\n",
    "print(sr1)"
   ]
  },
  {
   "cell_type": "markdown",
   "metadata": {},
   "source": [
    "1. DataFrame 클래스를 사용해 2차원 배열 형태의 DataFrame 객체를 만들 수 있음.\n",
    "2. 서로 다른 데이터 2차원 배열 구조는 엑셀이나 CSV 파일에서 사용됨.\n",
    "3. 딕셔너리 객체를 인자로 DataFrame 객체를 생성하는 방법은 다음과 같음"
   ]
  },
  {
   "cell_type": "code",
   "execution_count": 7,
   "metadata": {},
   "outputs": [
    {
     "name": "stdout",
     "output_type": "stream",
     "text": [
      "   A  B  C   D\n",
      "0  1  4  6   9\n",
      "1  2  5  7  10\n",
      "2  3  6  8  11\n"
     ]
    }
   ],
   "source": [
    "dict1 = {'A':[1,2,3], 'B':[4,5,6], 'C':[6,7,8], 'D':[9,10,11]}\n",
    "# Dataframe 클래스를 사용해서 2차원 배열 Dataframe을 생성\n",
    "df1 = pd.DataFrame(dict1)\n",
    "print(df1)"
   ]
  },
  {
   "cell_type": "markdown",
   "metadata": {},
   "source": [
    "1. DataFrame 객체를 생성할 때 index와 colums를 설정하면, 행 인덱스와 열 이름을 사용해 DataFrame 에접근할 수 있음."
   ]
  },
  {
   "cell_type": "code",
   "execution_count": 12,
   "metadata": {},
   "outputs": [
    {
     "name": "stdout",
     "output_type": "stream",
     "text": [
      "    나이      학과   학년 성별\n",
      "철수  20  컴퓨터공학과  1학년  남\n",
      "미영  21     수학과  2학년  여\n",
      "길동  20     화학과  1학년  남\n",
      "\n",
      " 행 이름\n",
      "Index(['철수', '미영', '길동'], dtype='object')\n",
      "\n",
      " 열 이름\n",
      "Index(['나이', '학과', '학년', '성별'], dtype='object')\n"
     ]
    }
   ],
   "source": [
    "df1 = pd.DataFrame([[20, '컴퓨터공학과', '1학년', '남'], \n",
    "                   [21, '수학과', '2학년', '여'], \n",
    "                   [20, '화학과', '1학년', '남']],\n",
    "                   index = ['철수', '미영', '길동'],\n",
    "                   columns = ['나이', '학과', '학년', '성별'])\n",
    "print(df1)\n",
    "print('\\n 행 이름')\n",
    "print(df1.index)\n",
    "print('\\n 열 이름')\n",
    "print(df1.columns)"
   ]
  },
  {
   "cell_type": "markdown",
   "metadata": {},
   "source": [
    "1. 다음은 행과 열을 선택하는 예제.\n",
    "2. df1.loc[‘철수’]는 df1.iloc[0]과 동일\n",
    "3. 숫자 인덱스로 사용할 때는 iloc[] 사용"
   ]
  },
  {
   "cell_type": "code",
   "execution_count": 18,
   "metadata": {},
   "outputs": [
    {
     "name": "stdout",
     "output_type": "stream",
     "text": [
      "    나이      학과   학년 성별\n",
      "철수  20  컴퓨터공학과  1학년  남\n",
      "미영  21     수학과  2학년  여\n",
      "길동  20     화학과  1학년  남\n",
      "\n",
      "\n",
      "나이        20\n",
      "학과    컴퓨터공학과\n",
      "학년       1학년\n",
      "성별         남\n",
      "Name: 철수, dtype: object\n",
      "\n",
      "\n",
      "철수    20\n",
      "미영    21\n",
      "길동    20\n",
      "Name: 나이, dtype: int64\n"
     ]
    }
   ],
   "source": [
    "df1 = pd.DataFrame([[20, '컴퓨터공학과', '1학년', '남'], \n",
    "                   [21, '수학과', '2학년', '여'], \n",
    "                   [20, '화학과', '1학년', '남']],\n",
    "                   index = ['철수', '미영', '길동'],\n",
    "                   columns = ['나이', '학과', '학년', '성별'])\n",
    "print(df1)\n",
    "print('\\n')\n",
    "# 철수 location에 있는 정보를 가져옴\n",
    "student1 = df1.loc['철수']\n",
    "print(student1)\n",
    "print('\\n')\n",
    "# 각 index별 나이 열 출력\n",
    "age = df1['나이']\n",
    "print(age)"
   ]
  },
  {
   "cell_type": "markdown",
   "metadata": {},
   "source": [
    "## 미세먼지 데이터 시각화"
   ]
  },
  {
   "cell_type": "code",
   "execution_count": 17,
   "metadata": {},
   "outputs": [
    {
     "data": {
      "image/png": "[encoded data removed]",
      "text/plain": [
       "<Figure size 720x720 with 2 Axes>"
      ]
     },
     "metadata": {
      "needs_background": "light"
     },
     "output_type": "display_data"
    }
   ],
   "source": [
    "import numpy as np\n",
    "import matplotlib.pyplot as plt\n",
    "from matplotlib import style\n",
    "\n",
    "hour = ['1h', '2h', '3h', '4h', '5h', '6h', '7h', '8h', '9h', '10h']\n",
    "pm25 = np.array([34, 37, 30, 27, 35, 38, 43, 42, 37, 35])\n",
    "pm10 = np.array([46, 49, 41, 40, 81, 90, 53, 52, 55, 51])\n",
    "\n",
    "plt.figure(figsize = (10, 10))\n",
    "plt.subplot(2, 1, 1)\n",
    "\n",
    "for i in range(10):\n",
    "    if pm25[i] < 15:\n",
    "        plt.bar(hour[i], pm25[i], color = 'blue')\n",
    "    elif 15 <= pm25[i] < 35:\n",
    "        plt.bar(hour[i], pm25[i], color = 'green')\n",
    "    elif 35 <= pm25[i] < 75:\n",
    "        plt.bar(hour[i], pm25[i], color = 'orange')\n",
    "    elif pm25[i] > 75:\n",
    "        plt.bar(hour[i], pm25[i], color = 'red')\n",
    "        \n",
    "plt.title('pm2.5')\n",
    "\n",
    "plt.subplot(2, 1, 2)\n",
    "for i in range(10):\n",
    "    if pm10[i] < 30:\n",
    "        plt.bar(hour[i], pm10[i], color = 'blue')\n",
    "    elif 30 <= pm10[i] < 80:\n",
    "        plt.bar(hour[i], pm10[i], color = 'green')\n",
    "    elif 80 <= pm25[i] < 150:\n",
    "        plt.bar(hour[i], pm10[i], color = 'orange')\n",
    "    elif pm10[i] > 150:\n",
    "        plt.bar(hour[i], pm10[i], color = 'red')\n",
    "plt.title('pm10')\n",
    "plt.show()\n"
   ]
  },
  {
   "cell_type": "markdown",
   "metadata": {},
   "source": [
    "## 원주율 계산기"
   ]
  },
  {
   "cell_type": "markdown",
   "metadata": {},
   "source": [
    "사각형과 원의 성실을 이용해 원주율 계산\n",
    "\n",
    "입력: 시뮬레이션 횟수\n",
    "\n",
    "출력: 계산으로 구한 원주율 값\n",
    "\n",
    "사각형, 원, 점\n",
    "\n",
    "1. 몬테카를로(Monte Carlo) 시뮬레이션: 난수를 이용하여 반복적 계산을 통해 확률적인 값을 구하는 시뮬레이션 방법\n",
    "2. 몬테카를로 시뮬레이션은 수치해석학, 통계역학, 이공계 복잡한 문제를 확률적으로 푸는데 넓게 사용\n",
    "3. 몬테카를로 시뮬레이션은 수학적으로 보면 큰 모집단에서 무작위로 뽑은 표본의 특성은 그 개수가 많아질수록 모집단의 특성과 가까워진다는 통계와 확률분야의 개념에 바탕을 두고 있음."
   ]
  },
  {
   "cell_type": "code",
   "execution_count": 24,
   "metadata": {},
   "outputs": [
    {
     "name": "stdout",
     "output_type": "stream",
     "text": [
      "최대 몇번 시뮬레이션 할까요?10\n",
      "Pi =  2.4\n"
     ]
    },
    {
     "data": {
      "image/png": "[encoded data removed]",
      "text/plain": [
       "<Figure size 432x288 with 1 Axes>"
      ]
     },
     "metadata": {
      "needs_background": "light"
     },
     "output_type": "display_data"
    }
   ],
   "source": [
    "import random\n",
    "import matplotlib.pyplot as plt\n",
    "\n",
    "incircle = 0\n",
    "\n",
    "simCount = int(input(\"최대 몇번 시뮬레이션 할까요?\"))\n",
    "\n",
    "circle_center = (0, 0)\n",
    "circle_radius = 1\n",
    "\n",
    "c = plt.Circle(circle_center, circle_radius, ec = 'b', fill = True)\n",
    "\n",
    "a = plt.axes(xlim = (-1, 1), ylim = (-1, 1))\n",
    "a.add_patch(c)\n",
    "a.set_aspect('equal')\n",
    "\n",
    "for i in range(simCount):\n",
    "    x = random.uniform(-1.0, 1.0)\n",
    "    y = random.uniform(-1.0, 1.0)\n",
    "    plt.scatter(x, y, s = 2)\n",
    "    \n",
    "    dot_value = x * x + y * y\n",
    "    if dot_value <= 1:\n",
    "        incircle = incircle + 1\n",
    "\n",
    "print(\"Pi = \", 4 * incircle/simCount)\n",
    "plt.show()"
   ]
  }
 ],
 "metadata": {
  "kernelspec": {
   "display_name": "Python 3",
   "language": "python",
   "name": "python3"
  },
  "language_info": {
   "codemirror_mode": {
    "name": "ipython",
    "version": 3
   },
   "file_extension": ".py",
   "mimetype": "text/x-python",
   "name": "python",
   "nbconvert_exporter": "python",
   "pygments_lexer": "ipython3",
   "version": "3.8.3"
  }
 },
 "nbformat": 4,
 "nbformat_minor": 4
}
